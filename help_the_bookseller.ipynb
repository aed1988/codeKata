{
 "cells": [
  {
   "cell_type": "code",
   "execution_count": 11,
   "source": [
    "def stock_list1(listOfArt, listOfCat):\n",
    "  if listOfArt == [] or listOfCat == []: return ''\n",
    "  ret_string = ''\n",
    "    \n",
    "  for cat in listOfCat:\n",
    "      cat_count = 0\n",
    "      for art in listOfArt:\n",
    "          if cat == art[0]:\n",
    "              cat_count += int(art.split(' ')[-1])\n",
    "      if cat_count >= 0:\n",
    "          ret_string += f\"({cat} : {cat_count})\"\n",
    "          if cat != listOfCat[-1]: ret_string += ' - '\n",
    "    \n",
    "  return ret_string"
   ],
   "outputs": [],
   "metadata": {}
  },
  {
   "cell_type": "code",
   "execution_count": 12,
   "source": [
    "def stock_list2(listOfArt, listOfCat):\n",
    "    if listOfArt == [] or listOfCat == []: return ''\n",
    "    ret_string = ''\n",
    "    \n",
    "\n",
    "    dictionary = {}\n",
    "    for cat in listOfCat:\n",
    "        dictionary[cat] = 0\n",
    "        \n",
    "    for art in listOfArt:\n",
    "        if art[0] in dictionary.keys():\n",
    "            dictionary[art[0]] += int(art.split(' ')[-1])\n",
    "            \n",
    "    for key, value in dictionary.items():\n",
    "        ret_string += f\"({key} : {value})\"\n",
    "        if key != list(dictionary)[-1]: ret_string += ' - '\n",
    "        \n",
    "    return ret_string\n",
    "    "
   ],
   "outputs": [],
   "metadata": {}
  },
  {
   "cell_type": "code",
   "execution_count": 13,
   "source": [
    "b = [\"ABAR 200\", \"CDXE 500\", \"BKWR 250\", \"BTSQ 890\", \"DRTY 600\"]\n",
    "c = [\"A\", \"B\"]\n",
    "\n",
    "print(stock_list1(b, c) == \"(A : 200) - (B : 1140)\")\n",
    "print(stock_list2(b, c) == \"(A : 200) - (B : 1140)\")"
   ],
   "outputs": [
    {
     "output_type": "stream",
     "name": "stdout",
     "text": [
      "True\n",
      "True\n"
     ]
    }
   ],
   "metadata": {}
  },
  {
   "cell_type": "code",
   "execution_count": null,
   "source": [],
   "outputs": [],
   "metadata": {}
  }
 ],
 "metadata": {
  "orig_nbformat": 4,
  "language_info": {
   "name": "python",
   "version": "3.8.5",
   "mimetype": "text/x-python",
   "codemirror_mode": {
    "name": "ipython",
    "version": 3
   },
   "pygments_lexer": "ipython3",
   "nbconvert_exporter": "python",
   "file_extension": ".py"
  },
  "kernelspec": {
   "name": "python3",
   "display_name": "Python 3.8.5 64-bit ('base': conda)"
  },
  "interpreter": {
   "hash": "f85c0ae1067a86ad6a96b144378883e79fd1516474b579ba33ee3a7084540002"
  }
 },
 "nbformat": 4,
 "nbformat_minor": 2
}