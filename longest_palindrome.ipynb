{
 "cells": [
  {
   "cell_type": "markdown",
   "source": [
    "# Longest palindrome\n",
    "Find the length of the longest substring in the given string s that is the same in reverse.\n",
    "As an example, if the input was “I like racecars that go fast”, the substring (racecar) length would be 7.\n",
    "If the length of the input string is 0, the return value must be 0.\n",
    "\n",
    "> \"a\" -> 1  \n",
    "> \"aab\" -> 2    \n",
    "> \"abcde\" -> 1  \n",
    "> \"zzbaabcd\" -> 4  \n",
    "> \"\" -> 0  "
   ],
   "metadata": {}
  },
  {
   "cell_type": "code",
   "execution_count": 126,
   "source": [
    "def is_palindrome(input_string):\n",
    "  left = 0\n",
    "  right = len(input_string) - 1\n",
    "\n",
    "  while left < right:\n",
    "    if input_string[left] != input_string[right]: \n",
    "      return False\n",
    "    \n",
    "    left += 1\n",
    "    right -= 1\n",
    "    \n",
    "  return True"
   ],
   "outputs": [],
   "metadata": {}
  },
  {
   "cell_type": "code",
   "execution_count": 127,
   "source": [
    "is_palindrome('racecar')"
   ],
   "outputs": [
    {
     "output_type": "execute_result",
     "data": {
      "text/plain": [
       "True"
      ]
     },
     "metadata": {},
     "execution_count": 127
    }
   ],
   "metadata": {}
  },
  {
   "cell_type": "code",
   "execution_count": 128,
   "source": [
    "def longest_palindrome(string):\n",
    "  if len(string) == 1: return 1\n",
    "\n",
    "  idx = 0\n",
    "  right = 1\n",
    "  longest = 0\n",
    "\n",
    "  while idx < len(string) - 1:\n",
    "    while right <= len(string):\n",
    "      if is_palindrome(string[idx: right]) and right - idx > longest:\n",
    "        longest = right - idx\n",
    "      right += 1\n",
    "    idx += 1\n",
    "    right = idx + 1\n",
    "  return longest"
   ],
   "outputs": [],
   "metadata": {}
  },
  {
   "cell_type": "code",
   "execution_count": 129,
   "source": [
    "print(longest_palindrome(\"a\") == 1)  \n",
    "print(longest_palindrome(\"aab\") == 2)    \n",
    "print(longest_palindrome(\"abcde\") == 1)\n",
    "print(longest_palindrome(\"zzbaabcd\") == 4)  \n",
    "print(longest_palindrome(\"\") == 0)"
   ],
   "outputs": [
    {
     "output_type": "stream",
     "name": "stdout",
     "text": [
      "True\n",
      "True\n",
      "True\n",
      "True\n",
      "True\n"
     ]
    }
   ],
   "metadata": {}
  },
  {
   "cell_type": "code",
   "execution_count": null,
   "source": [],
   "outputs": [],
   "metadata": {}
  }
 ],
 "metadata": {
  "orig_nbformat": 4,
  "language_info": {
   "name": "python",
   "version": "3.8.5",
   "mimetype": "text/x-python",
   "codemirror_mode": {
    "name": "ipython",
    "version": 3
   },
   "pygments_lexer": "ipython3",
   "nbconvert_exporter": "python",
   "file_extension": ".py"
  },
  "kernelspec": {
   "name": "python3",
   "display_name": "Python 3.8.5 64-bit ('base': conda)"
  },
  "interpreter": {
   "hash": "f85c0ae1067a86ad6a96b144378883e79fd1516474b579ba33ee3a7084540002"
  }
 },
 "nbformat": 4,
 "nbformat_minor": 2
}