{
 "cells": [
  {
   "cell_type": "code",
   "execution_count": null,
   "source": [
    "def series_sum(n):\n",
    "  sum = 0\n",
    "  for i in range(n):\n",
    "      sum += 1/((3*i)+1)\n",
    "  return f\"{sum:.2f}\""
   ],
   "outputs": [],
   "metadata": {}
  }
 ],
 "metadata": {
  "orig_nbformat": 4,
  "language_info": {
   "name": "python",
   "version": "3.8.5"
  },
  "kernelspec": {
   "name": "python3",
   "display_name": "Python 3.8.5 64-bit ('base': conda)"
  },
  "interpreter": {
   "hash": "f85c0ae1067a86ad6a96b144378883e79fd1516474b579ba33ee3a7084540002"
  }
 },
 "nbformat": 4,
 "nbformat_minor": 2
}