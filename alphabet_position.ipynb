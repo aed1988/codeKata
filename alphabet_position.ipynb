{
    "cells": [
        {
            "cell_type": "code",
            "execution_count": 133,
            "source": [
                "def alphabet_position1(text):\n",
                "    num_str = ''\n",
                "    alphabet = 'abcdefghijklmnopqrstuvwxyz'\n",
                "    for char in text.lower():\n",
                "      location = alphabet.find(char)\n",
                "      if location == -1:\n",
                "        continue\n",
                "      if num_str != '':\n",
                "        num_str += ' '\n",
                "      \n",
                "      num_str += str(location + 1)\n",
                "      \n",
                "    return num_str\n",
                "    "
            ],
            "outputs": [],
            "metadata": {}
        },
        {
            "cell_type": "code",
            "execution_count": 150,
            "source": [
                "def alphabet_position(text): \n",
                "  return ' '.join(str(ord(letter) - 96) for letter in text.lower() if letter.isalpha())"
            ],
            "outputs": [],
            "metadata": {}
        },
        {
            "cell_type": "code",
            "execution_count": 151,
            "source": [
                "alphabet_position('Hello world!')"
            ],
            "outputs": [
                {
                    "output_type": "execute_result",
                    "data": {
                        "text/plain": [
                            "'8 5 12 12 15 23 15 18 12 4'"
                        ]
                    },
                    "metadata": {},
                    "execution_count": 151
                }
            ],
            "metadata": {}
        },
        {
            "cell_type": "code",
            "execution_count": 152,
            "source": [
                "alphabet_position('a')"
            ],
            "outputs": [
                {
                    "output_type": "execute_result",
                    "data": {
                        "text/plain": [
                            "'1'"
                        ]
                    },
                    "metadata": {},
                    "execution_count": 152
                }
            ],
            "metadata": {}
        },
        {
            "cell_type": "code",
            "execution_count": 35,
            "source": [
                "alphabet = 'abcdefghijklmnopqrstuvwxyz'\n",
                "str(alphabet.find('a') + 1)"
            ],
            "outputs": [
                {
                    "output_type": "execute_result",
                    "data": {
                        "text/plain": [
                            "'1'"
                        ]
                    },
                    "metadata": {},
                    "execution_count": 35
                }
            ],
            "metadata": {}
        },
        {
            "cell_type": "code",
            "execution_count": null,
            "source": [],
            "outputs": [],
            "metadata": {}
        }
    ],
    "metadata": {
        "orig_nbformat": 4,
        "language_info": {
            "name": "python",
            "version": "3.8.5",
            "mimetype": "text/x-python",
            "codemirror_mode": {
                "name": "ipython",
                "version": 3
            },
            "pygments_lexer": "ipython3",
            "nbconvert_exporter": "python",
            "file_extension": ".py"
        },
        "kernelspec": {
            "name": "python3",
            "display_name": "Python 3.8.5 64-bit ('base': conda)"
        },
        "interpreter": {
            "hash": "f85c0ae1067a86ad6a96b144378883e79fd1516474b579ba33ee3a7084540002"
        }
    },
    "nbformat": 4,
    "nbformat_minor": 2
}