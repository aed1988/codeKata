{
 "cells": [
  {
   "cell_type": "code",
   "execution_count": 4,
   "source": [
    "def delete_nth(order, max_e):\n",
    "  dictionary = {}\n",
    "  lst = []\n",
    "\n",
    "  for el in order:\n",
    "    if el not in dictionary:\n",
    "      dictionary[el] = 0\n",
    "    else:\n",
    "      dictionary[el] += 1\n",
    "\n",
    "    if dictionary[el] < max_e:\n",
    "      lst.append(el)\n",
    "\n",
    "  return lst\n",
    "    \n",
    "\n",
    "    \n"
   ],
   "outputs": [],
   "metadata": {}
  },
  {
   "cell_type": "code",
   "execution_count": 6,
   "source": [
    "delete_nth([1,1,3,3,7,2,2,2,2], 3)"
   ],
   "outputs": [
    {
     "output_type": "execute_result",
     "data": {
      "text/plain": [
       "[1, 1, 3, 3, 7, 2, 2, 2]"
      ]
     },
     "metadata": {},
     "execution_count": 6
    }
   ],
   "metadata": {}
  },
  {
   "cell_type": "code",
   "execution_count": null,
   "source": [],
   "outputs": [],
   "metadata": {}
  }
 ],
 "metadata": {
  "orig_nbformat": 4,
  "language_info": {
   "name": "python",
   "version": "3.8.5",
   "mimetype": "text/x-python",
   "codemirror_mode": {
    "name": "ipython",
    "version": 3
   },
   "pygments_lexer": "ipython3",
   "nbconvert_exporter": "python",
   "file_extension": ".py"
  },
  "kernelspec": {
   "name": "python3",
   "display_name": "Python 3.8.5 64-bit ('base': conda)"
  },
  "interpreter": {
   "hash": "f85c0ae1067a86ad6a96b144378883e79fd1516474b579ba33ee3a7084540002"
  }
 },
 "nbformat": 4,
 "nbformat_minor": 2
}