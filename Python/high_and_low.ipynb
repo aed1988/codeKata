{
    "cells": [
        {
            "cell_type": "code",
            "execution_count": null,
            "source": [
                "def high_and_low(numbers):\n",
                "  nums = [int(i) for i in numbers.split(' ')]\n",
                "\n",
                "  return f'{max(nums)} {min(nums)}'"
            ],
            "outputs": [],
            "metadata": {}
        }
    ],
    "metadata": {
        "orig_nbformat": 4,
        "language_info": {
            "name": "python",
            "version": "3.8.5",
            "mimetype": "text/x-python",
            "codemirror_mode": {
                "name": "ipython",
                "version": 3
            },
            "pygments_lexer": "ipython3",
            "nbconvert_exporter": "python",
            "file_extension": ".py"
        },
        "kernelspec": {
            "name": "python3",
            "display_name": "Python 3.8.5 64-bit ('base': conda)"
        },
        "interpreter": {
            "hash": "f85c0ae1067a86ad6a96b144378883e79fd1516474b579ba33ee3a7084540002"
        }
    },
    "nbformat": 4,
    "nbformat_minor": 2
}