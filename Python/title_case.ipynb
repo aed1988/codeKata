{
 "cells": [
  {
   "cell_type": "code",
   "execution_count": 61,
   "source": [
    "def title_case(title, minor_words=''):\n",
    "  string = ''\n",
    "  minor_words = minor_words.lower().split()\n",
    "  \n",
    "  for count, word in enumerate(title.split()):\n",
    "    word = word.lower()\n",
    "    if count == 0: \n",
    "      string += word.capitalize()\n",
    "    elif word not in minor_words: \n",
    "      string += word.capitalize()\n",
    "    else:\n",
    "      string += word.lower()\n",
    "\n",
    "    if count != len(title.split()) - 1:\n",
    "      string += ' '\n",
    "  return string"
   ],
   "outputs": [],
   "metadata": {}
  },
  {
   "cell_type": "code",
   "execution_count": 65,
   "source": [
    "def title_case2(title, minor_words=''):\n",
    "    title = title.capitalize().split()\n",
    "    minor_words = minor_words.lower().split()\n",
    "    return ' '.join([word if word in minor_words else word.capitalize() for word in title])"
   ],
   "outputs": [],
   "metadata": {}
  }
 ],
 "metadata": {
  "orig_nbformat": 4,
  "language_info": {
   "name": "python",
   "version": "3.8.5",
   "mimetype": "text/x-python",
   "codemirror_mode": {
    "name": "ipython",
    "version": 3
   },
   "pygments_lexer": "ipython3",
   "nbconvert_exporter": "python",
   "file_extension": ".py"
  },
  "kernelspec": {
   "name": "python3",
   "display_name": "Python 3.8.5 64-bit ('base': conda)"
  },
  "interpreter": {
   "hash": "f85c0ae1067a86ad6a96b144378883e79fd1516474b579ba33ee3a7084540002"
  }
 },
 "nbformat": 4,
 "nbformat_minor": 2
}