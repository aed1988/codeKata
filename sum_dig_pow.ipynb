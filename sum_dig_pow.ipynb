{
 "cells": [
  {
   "cell_type": "code",
   "execution_count": 4,
   "source": [
    "def sum_dig_pow0(a, b): # range(a, b + 1) will be studied by the function\n",
    "  lst = []\n",
    "\n",
    "  def sum_dig(num):\n",
    "    result = 0\n",
    "    for idx, x in enumerate(str(num)):\n",
    "      result += int(x) ** (int(idx)+1)\n",
    "    return result\n",
    "\n",
    "  for i in range(a, b + 1):\n",
    "    if sum_dig(i) == i:\n",
    "      lst.append(sum_dig(i))\n",
    "  return lst"
   ],
   "outputs": [],
   "metadata": {}
  },
  {
   "cell_type": "code",
   "execution_count": 1,
   "source": [
    "def sum_dig_pow(a, b): \n",
    "  \n",
    "    def sum_dig(num):\n",
    "      return sum(int(x) ** idx for idx, x in enumerate(str(num), 1))\n",
    "\n",
    "    return [x for x in range(a,b + 1) if sum_dig(x) == x]"
   ],
   "outputs": [],
   "metadata": {}
  },
  {
   "cell_type": "code",
   "execution_count": 3,
   "source": [
    "sum_dig_pow(1,100)"
   ],
   "outputs": [
    {
     "output_type": "execute_result",
     "data": {
      "text/plain": [
       "[1, 2, 3, 4, 5, 6, 7, 8, 9, 89]"
      ]
     },
     "metadata": {},
     "execution_count": 3
    }
   ],
   "metadata": {}
  },
  {
   "cell_type": "code",
   "execution_count": null,
   "source": [
    "def sum_dig(num):\n",
    "      result = 0\n",
    "      for idx, x in enumerate(str(num)):\n",
    "        result += int(x) ** (int(idx)+1)\n",
    "      return result"
   ],
   "outputs": [],
   "metadata": {}
  },
  {
   "cell_type": "code",
   "execution_count": null,
   "source": [
    "sum_dig(10)"
   ],
   "outputs": [
    {
     "output_type": "execute_result",
     "data": {
      "text/plain": [
       "1"
      ]
     },
     "metadata": {},
     "execution_count": 43
    }
   ],
   "metadata": {}
  },
  {
   "cell_type": "code",
   "execution_count": null,
   "source": [],
   "outputs": [],
   "metadata": {}
  }
 ],
 "metadata": {
  "orig_nbformat": 4,
  "language_info": {
   "name": "python",
   "version": "3.8.5",
   "mimetype": "text/x-python",
   "codemirror_mode": {
    "name": "ipython",
    "version": 3
   },
   "pygments_lexer": "ipython3",
   "nbconvert_exporter": "python",
   "file_extension": ".py"
  },
  "kernelspec": {
   "name": "python3",
   "display_name": "Python 3.8.5 64-bit ('base': conda)"
  },
  "interpreter": {
   "hash": "f85c0ae1067a86ad6a96b144378883e79fd1516474b579ba33ee3a7084540002"
  }
 },
 "nbformat": 4,
 "nbformat_minor": 2
}